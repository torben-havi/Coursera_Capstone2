{
    "cells": [
        {
            "cell_type": "markdown",
            "metadata": {
                "collapsed": true
            },
            "source": "# Coursera Capstone Project Week3\n### by Torben Scaffidi"
        },
        {
            "cell_type": "markdown",
            "metadata": {},
            "source": "**Task1: Extract Data from Wikipedia**"
        },
        {
            "cell_type": "code",
            "execution_count": 10,
            "metadata": {},
            "outputs": [],
            "source": "import sys\nimport requests\nimport bs4\nimport urllib.request"
        },
        {
            "cell_type": "code",
            "execution_count": 19,
            "metadata": {},
            "outputs": [],
            "source": "# get table as html\nurl = \"https://en.wikipedia.org/wiki/List_of_postal_codes_of_Canada:_M\"\npage = urllib.request.urlopen(url)\nsoup = bs4.BeautifulSoup(page, \"lxml\")\nright_table=soup.find('table', class_='wikitable sortable')\n"
        },
        {
            "cell_type": "code",
            "execution_count": 17,
            "metadata": {},
            "outputs": [],
            "source": "#loop through html\nA=[]\nB=[]\nC=[]\n\nfor row in right_table.findAll('tr'):\n    cells=row.findAll('td')\n    if len(cells)==3:\n        A.append(cells[0].find(text=True))\n        B.append(cells[1].find(text=True))\n        C.append(cells[2].find(text=True))\n       "
        },
        {
            "cell_type": "code",
            "execution_count": 65,
            "metadata": {},
            "outputs": [
                {
                    "data": {
                        "text/plain": "861"
                    },
                    "execution_count": 65,
                    "metadata": {},
                    "output_type": "execute_result"
                }
            ],
            "source": "#transfer into data frame\nimport pandas as pd\ndf=pd.DataFrame(A,columns=['PostalCode'])\ndf['Borough']=B\ndf['Neighborhood']=C\ndf.size"
        },
        {
            "cell_type": "code",
            "execution_count": 68,
            "metadata": {},
            "outputs": [],
            "source": "#delete rows with Borough not assigned\ndf = df[df.Borough != 'Not assigned']\ndf.size\ndf2=df"
        },
        {
            "cell_type": "code",
            "execution_count": 77,
            "metadata": {},
            "outputs": [
                {
                    "data": {
                        "text/plain": "(103, 3)"
                    },
                    "execution_count": 77,
                    "metadata": {},
                    "output_type": "execute_result"
                }
            ],
            "source": "#combine neighborhoods and replace not assigned\ndf2['Neighborhood'] = df2.groupby(['PostalCode', 'Borough'])['Neighborhood'].transform(lambda x: ','.join(x))\ndf2 = df2.drop_duplicates()\ndf2['Neighborhood'] = df2['Neighborhood'].map(lambda x: x.strip('\\n'))\ndf2['Neighborhood'] = df2['Neighborhood'].replace('Not assigned', df2['Borough'])\ndf2.shape"
        },
        {
            "cell_type": "code",
            "execution_count": null,
            "metadata": {},
            "outputs": [],
            "source": ""
        },
        {
            "cell_type": "code",
            "execution_count": null,
            "metadata": {},
            "outputs": [],
            "source": ""
        }
    ],
    "metadata": {
        "kernelspec": {
            "display_name": "Python 3.6",
            "language": "python",
            "name": "python3"
        },
        "language_info": {
            "codemirror_mode": {
                "name": "ipython",
                "version": 3
            },
            "file_extension": ".py",
            "mimetype": "text/x-python",
            "name": "python",
            "nbconvert_exporter": "python",
            "pygments_lexer": "ipython3",
            "version": "3.6.8"
        }
    },
    "nbformat": 4,
    "nbformat_minor": 1
}